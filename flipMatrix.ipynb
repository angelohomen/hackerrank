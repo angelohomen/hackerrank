{
 "cells": [
  {
   "cell_type": "code",
   "execution_count": 112,
   "metadata": {},
   "outputs": [],
   "source": [
    "import math"
   ]
  },
  {
   "cell_type": "code",
   "execution_count": 113,
   "metadata": {},
   "outputs": [],
   "source": [
    "def flippingMatrix(matrix):\n",
    "    up_bottom_middle = int((len(matrix) + 1) / 2)\n",
    "    left_right_middle = int((len(matrix[0]) + 1) / 2)\n",
    "    rows = matrix\n",
    "    columns = [[row[i] for row in matrix] for i in range(len(matrix[0]))]\n",
    "    sum_result = 0\n",
    "\n",
    "    #Calculate upper=left quadrant sum\n",
    "    for col in range(left_right_middle):\n",
    "        for row in range(up_bottom_middle):\n",
    "            sum_result += matrix[row][col]\n",
    "\n",
    "    return sum_result"
   ]
  },
  {
   "cell_type": "code",
   "execution_count": 114,
   "metadata": {},
   "outputs": [],
   "source": [
    "def flippingMatrix1(matrix):\n",
    "    n=int(len(matrix)/2)\n",
    "    for y in range(2*n):\n",
    "        matrix.append([int(x) for x in input().split()])\n",
    "    suma = 0\n",
    "    for i in range(n):\n",
    "        for j in range(n):\n",
    "            suma += max(max(matrix[i][j],matrix[2*n-i-1][j]),max(matrix[i][2*n-j-1],matrix[2*n-i-1][2*n-j-1]))\n",
    "    print(suma)"
   ]
  },
  {
   "cell_type": "code",
   "execution_count": 115,
   "metadata": {},
   "outputs": [],
   "source": [
    "matrix1 = [[1,2],[3,4]]\n",
    "matrix2 = [[112,56,83,21],[20,56,74,94],[96,45,28,13],[1,5,9,17]]"
   ]
  },
  {
   "cell_type": "code",
   "execution_count": 116,
   "metadata": {},
   "outputs": [
    {
     "name": "stdout",
     "output_type": "stream",
     "text": [
      "365\n"
     ]
    }
   ],
   "source": [
    "flippingMatrix1(matrix2)"
   ]
  },
  {
   "cell_type": "code",
   "execution_count": null,
   "metadata": {},
   "outputs": [],
   "source": []
  }
 ],
 "metadata": {
  "interpreter": {
   "hash": "2be5faf79681da6f2a61fdfdd5405d65d042280f7fba6178067603e3a2925119"
  },
  "kernelspec": {
   "display_name": "Python 3.10.4 64-bit",
   "language": "python",
   "name": "python3"
  },
  "language_info": {
   "codemirror_mode": {
    "name": "ipython",
    "version": 3
   },
   "file_extension": ".py",
   "mimetype": "text/x-python",
   "name": "python",
   "nbconvert_exporter": "python",
   "pygments_lexer": "ipython3",
   "version": "3.9.7"
  },
  "orig_nbformat": 4
 },
 "nbformat": 4,
 "nbformat_minor": 2
}
