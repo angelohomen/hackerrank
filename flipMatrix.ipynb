{
 "cells": [
  {
   "cell_type": "code",
   "execution_count": 112,
   "metadata": {},
   "outputs": [],
   "source": [
    "import math"
   ]
  },
  {
   "cell_type": "code",
   "execution_count": 78,
   "metadata": {},
   "outputs": [],
   "source": [
    "def flippingMatrix(matrix):\n",
    "    up_bottom_middle = int((len(matrix) + 1) / 2)\n",
    "    left_right_middle = int((len(matrix[0]) + 1) / 2)\n",
    "    rows = [j for i in matrix for j in i]\n",
    "    columns = [[row[i] for row in matrix] for i in range(len(matrix[0]))]\n",
    "    columns = [j for i in columns for j in i]\n",
    "    sum_result = 0\n",
    "    print(rows)\n",
    "    print(columns)\n",
    "\n",
    "    #Calculate upper=left quadrant sum\n",
    "    for col in range(left_right_middle):\n",
    "        for row in range(up_bottom_middle):\n",
    "            print(max(max(matrix[row][col], rows), max(matrix[row][col], columns)))\n",
    "\n",
    "    return sum_result"
   ]
  },
  {
   "cell_type": "code",
   "execution_count": 90,
   "metadata": {},
   "outputs": [],
   "source": [
    "def flippingMatrix1(matrix):\n",
    "    n=int(len(matrix)/2)\n",
    "    print(matrix)\n",
    "    suma = 0\n",
    "    for i in range(n):\n",
    "        for j in range(n):\n",
    "            print(\"-----------------------------------------------------\")\n",
    "            print(\"i = \", i)\n",
    "            print(\"j = \", j)\n",
    "            print(\"matrix[i][j] = \", matrix[i][j])\n",
    "            print(\"matrix[2*n-i-1][j] = \", matrix[2*n-i-1][j])\n",
    "            print(\"matrix[i][2*n-j-1] = \", matrix[i][2*n-j-1])\n",
    "            print(\"matrix[2*n-i-1][2*n-j-1] = \", matrix[2*n-i-1][2*n-j-1])\n",
    "            print(\"max(matrix[i][j],matrix[2*n-i-1][j]) = \", max(matrix[i][j],matrix[2*n-i-1][j]))\n",
    "            print(\"max(matrix[i][2*n-j-1],matrix[2*n-i-1][2*n-j-1]) = \", max(matrix[i][2*n-j-1],matrix[2*n-i-1][2*n-j-1]))\n",
    "            print(\"2*n-i-1 = \", 2*n-i-1)\n",
    "            print(\"2*n-j-1 = \", 2*n-j-1)\n",
    "            print(\"max(max(matrix[i][j],matrix[2*n-i-1][j]),max(matrix[i][2*n-j-1],matrix[2*n-i-1][2*n-j-1])) = \", max(max(matrix[i][j],matrix[2*n-i-1][j]),max(matrix[i][2*n-j-1],matrix[2*n-i-1][2*n-j-1])))\n",
    "            print(\"-----------------------------------------------------\")\n",
    "            suma += max(max(matrix[i][j],matrix[2*n-i-1][j]),max(matrix[i][2*n-j-1],matrix[2*n-i-1][2*n-j-1]))\n",
    "    print(suma)"
   ]
  },
  {
   "cell_type": "code",
   "execution_count": 91,
   "metadata": {},
   "outputs": [],
   "source": [
    "matrix1 = [[1,2],[3,4]]\n",
    "matrix2 = [[112,56,83,21],[20,56,74,94],[96,45,28,13],[1,5,9,17]]"
   ]
  },
  {
   "cell_type": "code",
   "execution_count": 92,
   "metadata": {},
   "outputs": [
    {
     "name": "stdout",
     "output_type": "stream",
     "text": [
      "[1, 2, 3, 4]\n",
      "[1, 3, 2, 4]\n",
      "[1, 3, 2, 4]\n"
     ]
    },
    {
     "data": {
      "text/plain": [
       "0"
      ]
     },
     "execution_count": 92,
     "metadata": {},
     "output_type": "execute_result"
    }
   ],
   "source": [
    "flippingMatrix(matrix1)"
   ]
  },
  {
   "cell_type": "code",
   "execution_count": 93,
   "metadata": {},
   "outputs": [
    {
     "name": "stdout",
     "output_type": "stream",
     "text": [
      "[[112, 56, 83, 21], [20, 56, 74, 94], [96, 45, 28, 13], [1, 5, 9, 17]]\n",
      "-----------------------------------------------------\n",
      "i =  0\n",
      "j =  0\n",
      "matrix[i][j] =  112\n",
      "matrix[2*n-i-1][j] =  1\n",
      "matrix[i][2*n-j-1] =  21\n",
      "matrix[2*n-i-1][2*n-j-1] =  17\n",
      "max(matrix[i][j],matrix[2*n-i-1][j]) =  112\n",
      "max(matrix[i][2*n-j-1],matrix[2*n-i-1][2*n-j-1]) =  21\n",
      "2*n-i-1 =  3\n",
      "2*n-j-1 =  3\n",
      "max(max(matrix[i][j],matrix[2*n-i-1][j]),max(matrix[i][2*n-j-1],matrix[2*n-i-1][2*n-j-1])) =  112\n",
      "-----------------------------------------------------\n",
      "-----------------------------------------------------\n",
      "i =  0\n",
      "j =  1\n",
      "matrix[i][j] =  56\n",
      "matrix[2*n-i-1][j] =  5\n",
      "matrix[i][2*n-j-1] =  83\n",
      "matrix[2*n-i-1][2*n-j-1] =  9\n",
      "max(matrix[i][j],matrix[2*n-i-1][j]) =  56\n",
      "max(matrix[i][2*n-j-1],matrix[2*n-i-1][2*n-j-1]) =  83\n",
      "2*n-i-1 =  3\n",
      "2*n-j-1 =  2\n",
      "max(max(matrix[i][j],matrix[2*n-i-1][j]),max(matrix[i][2*n-j-1],matrix[2*n-i-1][2*n-j-1])) =  83\n",
      "-----------------------------------------------------\n",
      "-----------------------------------------------------\n",
      "i =  1\n",
      "j =  0\n",
      "matrix[i][j] =  20\n",
      "matrix[2*n-i-1][j] =  96\n",
      "matrix[i][2*n-j-1] =  94\n",
      "matrix[2*n-i-1][2*n-j-1] =  13\n",
      "max(matrix[i][j],matrix[2*n-i-1][j]) =  96\n",
      "max(matrix[i][2*n-j-1],matrix[2*n-i-1][2*n-j-1]) =  94\n",
      "2*n-i-1 =  2\n",
      "2*n-j-1 =  3\n",
      "max(max(matrix[i][j],matrix[2*n-i-1][j]),max(matrix[i][2*n-j-1],matrix[2*n-i-1][2*n-j-1])) =  96\n",
      "-----------------------------------------------------\n",
      "-----------------------------------------------------\n",
      "i =  1\n",
      "j =  1\n",
      "matrix[i][j] =  56\n",
      "matrix[2*n-i-1][j] =  45\n",
      "matrix[i][2*n-j-1] =  74\n",
      "matrix[2*n-i-1][2*n-j-1] =  28\n",
      "max(matrix[i][j],matrix[2*n-i-1][j]) =  56\n",
      "max(matrix[i][2*n-j-1],matrix[2*n-i-1][2*n-j-1]) =  74\n",
      "2*n-i-1 =  2\n",
      "2*n-j-1 =  2\n",
      "max(max(matrix[i][j],matrix[2*n-i-1][j]),max(matrix[i][2*n-j-1],matrix[2*n-i-1][2*n-j-1])) =  74\n",
      "-----------------------------------------------------\n",
      "365\n"
     ]
    }
   ],
   "source": [
    "flippingMatrix1(matrix2)"
   ]
  },
  {
   "cell_type": "code",
   "execution_count": null,
   "metadata": {},
   "outputs": [],
   "source": []
  }
 ],
 "metadata": {
  "interpreter": {
   "hash": "28ea75b7d9dd5b325cb9a751dc34da71a10f8944bac9b4ff454d9595cb15b82f"
  },
  "kernelspec": {
   "display_name": "Python 3.9.7 ('base')",
   "language": "python",
   "name": "python3"
  },
  "language_info": {
   "codemirror_mode": {
    "name": "ipython",
    "version": 3
   },
   "file_extension": ".py",
   "mimetype": "text/x-python",
   "name": "python",
   "nbconvert_exporter": "python",
   "pygments_lexer": "ipython3",
   "version": "3.9.7"
  },
  "orig_nbformat": 4
 },
 "nbformat": 4,
 "nbformat_minor": 2
}
